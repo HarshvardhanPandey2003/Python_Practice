, ZeroDivisionError) as e:
    print(e)